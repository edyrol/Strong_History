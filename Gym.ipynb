{
 "cells": [
  {
   "cell_type": "markdown",
   "id": "4b51c3f9-552b-46e3-a413-d2371cd0be84",
   "metadata": {},
   "source": [
    "# Strong History\n",
    "\n",
    "Toma el csv generado por la app Strong (https://www.strong.app/) y grafica los datos de ejercicios de fuerza.\n",
    "\n",
    "Cada serie la cuantifica mediante el volumen (o 1RM estimado) y se genera una grafica de barras apiladas. De esta forma cada color en una barra representa una serie."
   ]
  },
  {
   "cell_type": "code",
   "execution_count": 1,
   "id": "72b2076d-fc00-474e-83e8-94ceaa7afafd",
   "metadata": {},
   "outputs": [],
   "source": [
    "import datetime as dt\n",
    "import pandas as pd\n",
    "import matplotlib.pyplot as plt\n",
    "\n",
    "plt.style.use('dark_background')\n",
    "plt.rcParams['figure.facecolor']='#111111'\n",
    "plt.rcParams['axes.facecolor']='#111111'\n",
    "\n",
    "#Convierte el csv en un dataframe de pandas\n",
    "def Strong_data(filename='strong.csv'):\n",
    "    workouts = pd.read_csv(filename,sep=';') #Lee archivo\n",
    "\n",
    "    workouts.drop(columns = ['Workout Name','RPE','Distance','Distance Unit','Seconds','Notes','Workout Notes','Workout Duration'], inplace=True) #Quita cosas inútiles\n",
    "    workouts.Date = pd.to_datetime(workouts.Date).dt.date #Pone fechas\n",
    "    workouts = workouts.loc[workouts.Reps != 0] #Quita cosas con 0 reps\n",
    "    workouts.loc[workouts.Weight.isnull(),'Weight'] = 0.0 #Convierte nulls a 0\n",
    "    workouts.loc[workouts['Weight Unit'] == 'lbs','Weight'] *= 2.20462 #Todo en kgs\n",
    "    workouts.drop(columns = ['Weight Unit'], inplace=True) #Todo en kgs\n",
    "    workouts.loc[workouts['Weight'] == 0,'Weight'] = 1.0 #Para que cuente reps de cosas sin peso\n",
    "\n",
    "    workouts['1RM'] = workouts.Weight / (1.0278 - 0.0278 * workouts.Reps) #Agrega 1rm\n",
    "    workouts['Vol'] = workouts.Weight * workouts.Reps #Agrega vol\n",
    "    \n",
    "    return workouts\n",
    "\n",
    "#Grafica historial de un ejercicio usando la columna col ('Vol' o '1RM')\n",
    "def history(workouts,exercise,col='Vol',start_date=dt.date(2000,1,1)):\n",
    "    P = workouts.loc[(workouts['Exercise Name']==exercise)&(workouts['Date']>=start_date),['Date','Set Order',col]]\n",
    "    P = P.set_index(['Date','Set Order']).unstack()\n",
    "    P.plot.bar(rot=45,legend=False,title=exercise,stacked=True)"
   ]
  },
  {
   "cell_type": "code",
   "execution_count": 2,
   "id": "2c34d810-3dbe-466a-86cb-ec9f88076345",
   "metadata": {},
   "outputs": [],
   "source": [
    "wo = Strong_data()"
   ]
  },
  {
   "cell_type": "code",
   "execution_count": 3,
   "id": "9be65d69-8368-4d20-956a-c34989cc19ce",
   "metadata": {},
   "outputs": [
    {
     "data": {
      "image/png": "[encoded data removed]",
      "text/plain": [
       "<Figure size 432x288 with 1 Axes>"
      ]
     },
     "metadata": {},
     "output_type": "display_data"
    }
   ],
   "source": [
    "history(wo,'Standing Calf Raise (Machine)',col='1RM')"
   ]
  },
  {
   "cell_type": "code",
   "execution_count": null,
   "id": "ab914dc7-e1f5-48be-af22-274488b96af2",
   "metadata": {
    "tags": []
   },
   "outputs": [],
   "source": [
    "exercises = ['Bench Press (Dumbbell)','Chest Dip','Decline Bench Press (Barbell)','Glute Ham Raise','Hip Abductor (Machine)',\n",
    "             'Hip Thrust (Machine) ','Leg Press','Lu raises','Overhead Press (Dumbbell)','Pull Up', 'Romanian Deadlift (Barbell)',\n",
    "             'Seated Row (Cable)','Squat (Barbell)','Standing Calf Raise (Machine)']\n",
    "for ex in exercises:\n",
    "    history(wo,ex,start_date=dt.date(2021,10,1))"
   ]
  },
  {
   "cell_type": "code",
   "execution_count": null,
   "id": "e27ea7f8-e22d-418f-833a-6b8c97c21bb3",
   "metadata": {},
   "outputs": [],
   "source": []
  }
 ],
 "metadata": {
  "kernelspec": {
   "display_name": "Python 3",
   "language": "python",
   "name": "python3"
  },
  "language_info": {
   "codemirror_mode": {
    "name": "ipython",
    "version": 3
   },
   "file_extension": ".py",
   "mimetype": "text/x-python",
   "name": "python",
   "nbconvert_exporter": "python",
   "pygments_lexer": "ipython3",
   "version": "3.7.11"
  }
 },
 "nbformat": 4,
 "nbformat_minor": 5
}
